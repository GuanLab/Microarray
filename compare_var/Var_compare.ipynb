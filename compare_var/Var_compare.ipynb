{
 "cells": [
  {
   "cell_type": "markdown",
   "metadata": {},
   "source": [
    "### After running Var_compare.py, we can evaluate the result:\n",
    "#### author: Yanan Qin"
   ]
  },
  {
   "cell_type": "markdown",
   "metadata": {},
   "source": [
    "### % of the images,  {s.d.contaminated} showed higher standard error overall than the {s.d.uncontaminated} group"
   ]
  },
  {
   "cell_type": "code",
   "execution_count": 2,
   "metadata": {},
   "outputs": [
    {
     "data": {
      "text/plain": [
       "0.9595872742906277"
      ]
     },
     "execution_count": 2,
     "metadata": {},
     "output_type": "execute_result"
    }
   ],
   "source": [
    "# author: Yanan Qin\n",
    "\n",
    "file = open('var_contam_vs_noncontam.txt', 'r')\n",
    "count = 0\n",
    "for i in file:\n",
    "#     print (i)\n",
    "    if i[1]> i[2]:\n",
    "        count += 1\n",
    "        \n",
    "count/1163  #cnt = 1163"
   ]
  }
 ],
 "metadata": {
  "kernelspec": {
   "display_name": "Python 3",
   "language": "python",
   "name": "python3"
  },
  "language_info": {
   "codemirror_mode": {
    "name": "ipython",
    "version": 3
   },
   "file_extension": ".py",
   "mimetype": "text/x-python",
   "name": "python",
   "nbconvert_exporter": "python",
   "pygments_lexer": "ipython3",
   "version": "3.7.7"
  }
 },
 "nbformat": 4,
 "nbformat_minor": 4
}
