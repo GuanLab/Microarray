{
 "cells": [
  {
   "cell_type": "markdown",
   "metadata": {},
   "source": [
    "### This script is to select all labelled(positive) and 2000 negative samples in the whole data set and select the corresponding dir (gene sample) to do rma \n",
    "\n",
    "#### author: Yanan Qin"
   ]
  },
  {
   "cell_type": "code",
   "execution_count": 13,
   "metadata": {},
   "outputs": [
    {
     "name": "stdout",
     "output_type": "stream",
     "text": [
      "The rpy2.ipython extension is already loaded. To reload it, use:\n",
      "  %reload_ext rpy2.ipython\n"
     ]
    }
   ],
   "source": [
    "%load_ext rpy2.ipython"
   ]
  },
  {
   "cell_type": "code",
   "execution_count": 1,
   "metadata": {},
   "outputs": [
    {
     "name": "stdout",
     "output_type": "stream",
     "text": [
      "842\n",
      "2842\n"
     ]
    }
   ],
   "source": [
    "import os\n",
    "import os.path\n",
    "import random\n",
    "from os import path\n",
    "sample_set = set()\n",
    "\n",
    "#put all positive cases into a set\n",
    "directory = r'/media/ssd2/yananq/mace/data/label'\n",
    "for filename in os.listdir(directory):\n",
    "    line = filename\n",
    "    line = line.strip()[:-4]\n",
    "    sample_set.add(line)\n",
    "\n",
    "print(len(sample_set))\n",
    "# put 2000 negative cases into the set    \n",
    "count = 0\n",
    "directory = r'/media/ssd2/yananq/mace/data/raw_image/mace_full_png'\n",
    "list_dir = os.listdir(directory)\n",
    "random.shuffle(list_dir)\n",
    "for filename in list_dir:\n",
    "    line = filename\n",
    "    line = line.strip()[:-4]\n",
    "    if line not in sample_set:\n",
    "        count += 1\n",
    "        sample_set.add(line)\n",
    "    if count >=2000:\n",
    "        break\n",
    "\n",
    "print(len(sample_set))"
   ]
  },
  {
   "cell_type": "code",
   "execution_count": 4,
   "metadata": {},
   "outputs": [
    {
     "name": "stdout",
     "output_type": "stream",
     "text": [
      "1548\n"
     ]
    },
    {
     "data": {
      "text/plain": [
       "2760"
      ]
     },
     "execution_count": 4,
     "metadata": {},
     "output_type": "execute_result"
    }
   ],
   "source": [
    "directory = r'/media/ssd/yananq/mace/bg'\n",
    "list_dir = os.listdir(directory)\n",
    "set_save_in_txt = set()\n",
    "count = 0\n",
    "for single_dir  in list_dir:\n",
    "    single_dir = single_dir.strip()\n",
    "    full_path = '/media/ssd/yananq/mace/bg/' + single_dir\n",
    "    for file in os.listdir(full_path):\n",
    "        if file in sample_set:\n",
    "            count +=1\n",
    "            set_save_in_txt.add(full_path)\n",
    "print(len(set_save_in_txt))\n",
    "\n",
    "path_file=open('/media/ssd/yananq/mace/sample_dir.txt','w')\n",
    "for i in set_save_in_txt:\n",
    "    path_file.write(i+'\\n')\n",
    "count    "
   ]
  },
  {
   "cell_type": "markdown",
   "metadata": {},
   "source": [
    "### Run R code get_RMA.R"
   ]
  },
  {
   "cell_type": "markdown",
   "metadata": {},
   "source": [
    "### get the average probe expressions of all negative cases "
   ]
  },
  {
   "cell_type": "code",
   "execution_count": null,
   "metadata": {},
   "outputs": [],
   "source": [
    "# get pos cases\n",
    "pos_case = set()\n",
    "    \n",
    "    \n",
    "for i in os.listdir('/media/ssd2/yananq/mace/code/pos_pred_cv1'):\n",
    "    pos_case.add(i.split('.')[0])\n",
    "    \n",
    "for i in os.listdir('/media/ssd2/yananq/mace/code/pos_pred_cv2'):\n",
    "    pos_case.add(i.split('.')[0])\n",
    "    \n",
    "\n",
    "for i in os.listdir('/media/ssd2/yananq/mace/code/pos_pred_cv3'):\n",
    "    pos_case.add(i.split('.')[0])\n",
    "    \n",
    "    \n",
    "for i in os.listdir('/media/ssd2/yananq/mace/code/pos_pred_cv4'):\n",
    "    pos_case.add(i.split('.')[0])\n",
    "    \n",
    "    \n",
    "for i in os.listdir('/media/ssd2/yananq/mace/code/pos_pred_cv5'):\n",
    "    pos_case.add(i.split('.')[0])"
   ]
  },
  {
   "cell_type": "code",
   "execution_count": null,
   "metadata": {},
   "outputs": [],
   "source": [
    "# get the average probe expressions of all negative cases \n",
    "directory = r'/media/ssd/yananq/mace/cel_expression'\n",
    "avg_sample = None\n",
    "count = 0\n",
    "for filename in os.listdir(directory):\n",
    "    file = pd.read_table(directory + '/' + filename)\n",
    "    file.index = file['Unnamed: 0']\n",
    "    file = file.drop(columns=['Unnamed: 0'])\n",
    "    for key, value in file.iteritems():\n",
    "        if value.isnull().values.any()== False and  key not in pos_case:\n",
    "                if avg_sample is None:\n",
    "                    avg_sample = value\n",
    "                    count = 1\n",
    "                else:\n",
    "                    avg_sample = avg_sample+value\n",
    "                    count = count +1"
   ]
  },
  {
   "cell_type": "code",
   "execution_count": null,
   "metadata": {},
   "outputs": [],
   "source": [
    "avg_sample = avg_sample /count\n",
    "avg_sample.to_csv('/media/ssd/yananq/mace/avg_neg_sample.csv')\n",
    "avg_sample "
   ]
  }
 ],
 "metadata": {
  "kernelspec": {
   "display_name": "Python 3",
   "language": "python",
   "name": "python3"
  },
  "language_info": {
   "codemirror_mode": {
    "name": "ipython",
    "version": 3
   },
   "file_extension": ".py",
   "mimetype": "text/x-python",
   "name": "python",
   "nbconvert_exporter": "python",
   "pygments_lexer": "ipython3",
   "version": "3.7.7"
  }
 },
 "nbformat": 4,
 "nbformat_minor": 4
}
