{
 "cells": [
  {
   "cell_type": "markdown",
   "metadata": {},
   "source": [
    "### These pieces of code are to recover contaminated probe intensities \n",
    "\n",
    "#### author: Yanan Qin"
   ]
  },
  {
   "cell_type": "code",
   "execution_count": 2,
   "metadata": {},
   "outputs": [
    {
     "name": "stderr",
     "output_type": "stream",
     "text": [
      "/home/yananq/anaconda3/lib/python3.7/site-packages/tensorflow/python/framework/dtypes.py:516: FutureWarning: Passing (type, 1) or '1type' as a synonym of type is deprecated; in a future version of numpy, it will be understood as (type, (1,)) / '(1,)type'.\n",
      "  _np_qint8 = np.dtype([(\"qint8\", np.int8, 1)])\n",
      "/home/yananq/anaconda3/lib/python3.7/site-packages/tensorflow/python/framework/dtypes.py:517: FutureWarning: Passing (type, 1) or '1type' as a synonym of type is deprecated; in a future version of numpy, it will be understood as (type, (1,)) / '(1,)type'.\n",
      "  _np_quint8 = np.dtype([(\"quint8\", np.uint8, 1)])\n",
      "/home/yananq/anaconda3/lib/python3.7/site-packages/tensorflow/python/framework/dtypes.py:518: FutureWarning: Passing (type, 1) or '1type' as a synonym of type is deprecated; in a future version of numpy, it will be understood as (type, (1,)) / '(1,)type'.\n",
      "  _np_qint16 = np.dtype([(\"qint16\", np.int16, 1)])\n",
      "/home/yananq/anaconda3/lib/python3.7/site-packages/tensorflow/python/framework/dtypes.py:519: FutureWarning: Passing (type, 1) or '1type' as a synonym of type is deprecated; in a future version of numpy, it will be understood as (type, (1,)) / '(1,)type'.\n",
      "  _np_quint16 = np.dtype([(\"quint16\", np.uint16, 1)])\n",
      "/home/yananq/anaconda3/lib/python3.7/site-packages/tensorflow/python/framework/dtypes.py:520: FutureWarning: Passing (type, 1) or '1type' as a synonym of type is deprecated; in a future version of numpy, it will be understood as (type, (1,)) / '(1,)type'.\n",
      "  _np_qint32 = np.dtype([(\"qint32\", np.int32, 1)])\n",
      "/home/yananq/anaconda3/lib/python3.7/site-packages/tensorflow/python/framework/dtypes.py:525: FutureWarning: Passing (type, 1) or '1type' as a synonym of type is deprecated; in a future version of numpy, it will be understood as (type, (1,)) / '(1,)type'.\n",
      "  np_resource = np.dtype([(\"resource\", np.ubyte, 1)])\n",
      "/home/yananq/anaconda3/lib/python3.7/site-packages/tensorboard/compat/tensorflow_stub/dtypes.py:541: FutureWarning: Passing (type, 1) or '1type' as a synonym of type is deprecated; in a future version of numpy, it will be understood as (type, (1,)) / '(1,)type'.\n",
      "  _np_qint8 = np.dtype([(\"qint8\", np.int8, 1)])\n",
      "/home/yananq/anaconda3/lib/python3.7/site-packages/tensorboard/compat/tensorflow_stub/dtypes.py:542: FutureWarning: Passing (type, 1) or '1type' as a synonym of type is deprecated; in a future version of numpy, it will be understood as (type, (1,)) / '(1,)type'.\n",
      "  _np_quint8 = np.dtype([(\"quint8\", np.uint8, 1)])\n",
      "/home/yananq/anaconda3/lib/python3.7/site-packages/tensorboard/compat/tensorflow_stub/dtypes.py:543: FutureWarning: Passing (type, 1) or '1type' as a synonym of type is deprecated; in a future version of numpy, it will be understood as (type, (1,)) / '(1,)type'.\n",
      "  _np_qint16 = np.dtype([(\"qint16\", np.int16, 1)])\n",
      "/home/yananq/anaconda3/lib/python3.7/site-packages/tensorboard/compat/tensorflow_stub/dtypes.py:544: FutureWarning: Passing (type, 1) or '1type' as a synonym of type is deprecated; in a future version of numpy, it will be understood as (type, (1,)) / '(1,)type'.\n",
      "  _np_quint16 = np.dtype([(\"quint16\", np.uint16, 1)])\n",
      "/home/yananq/anaconda3/lib/python3.7/site-packages/tensorboard/compat/tensorflow_stub/dtypes.py:545: FutureWarning: Passing (type, 1) or '1type' as a synonym of type is deprecated; in a future version of numpy, it will be understood as (type, (1,)) / '(1,)type'.\n",
      "  _np_qint32 = np.dtype([(\"qint32\", np.int32, 1)])\n",
      "/home/yananq/anaconda3/lib/python3.7/site-packages/tensorboard/compat/tensorflow_stub/dtypes.py:550: FutureWarning: Passing (type, 1) or '1type' as a synonym of type is deprecated; in a future version of numpy, it will be understood as (type, (1,)) / '(1,)type'.\n",
      "  np_resource = np.dtype([(\"resource\", np.ubyte, 1)])\n",
      "Using TensorFlow backend.\n"
     ]
    }
   ],
   "source": [
    "import numpy as np\n",
    "import pandas as pd\n",
    "import seaborn as sns\n",
    "import os\n",
    "import os.path\n",
    "import shutil\n",
    "import random\n",
    "import nibabel as nib\n",
    "import numpy as np\n",
    "import glob\n",
    "import sys\n",
    "import cv2\n",
    "import tensorflow as tf\n",
    "from keras import backend as K\n",
    "from keras.backend.tensorflow_backend import set_session\n",
    "from keras.models import load_model\n",
    "from tensorflow import Graph\n",
    "from os import path\n",
    "import matplotlib.pyplot as plt"
   ]
  },
  {
   "cell_type": "code",
   "execution_count": 175,
   "metadata": {},
   "outputs": [
    {
     "name": "stdout",
     "output_type": "stream",
     "text": [
      "1810\n"
     ]
    }
   ],
   "source": [
    "# get the name of all 1810 positive cases\n",
    "pos_case = set()\n",
    "for i in os.listdir('/media/ssd2/yananq/mace/code/pos_pred'):\n",
    "    pos_case.add('.'.join(i.split('.')[:-2]))\n",
    "print(len(pos_case)) \n",
    "\n",
    "#get the name of all 37724 samples\n",
    "all_sample = set(os.listdir('/media/ssd2/yananq/mace/data/raw_image/mace_full_png'))"
   ]
  },
  {
   "cell_type": "code",
   "execution_count": 197,
   "metadata": {},
   "outputs": [
    {
     "data": {
      "text/plain": [
       "1704"
      ]
     },
     "execution_count": 197,
     "metadata": {},
     "output_type": "execute_result"
    }
   ],
   "source": [
    "#contam_dir.txt save the dir of all 1810 contaminated cel file\n",
    "# for R code use\n",
    "count=0\n",
    "temp=set()\n",
    "path_file=open('/media/ssd/yananq/mace/contam_dir.txt','w') \n",
    "for series in os.listdir('/media/ssd/yananq/mace/bg'):\n",
    "    for sample in os.listdir('/media/ssd/yananq/mace/bg/'+series):\n",
    "        if sample in pos_case and sample not in temp:\n",
    "            temp.add(sample)\n",
    "            count+=1\n",
    "            path_file.write('/media/ssd/yananq/mace/bg/'+series+'/'+sample+'\\n')\n",
    "        \n",
    "#/media/ssd/yananq/mace/bg does not contain all the samples; find other samples from enlarge dir \n",
    "for i in pos_case:\n",
    "    if i not in temp:\n",
    "        if i in os.listdir('/media/ssd/yananq/mace/enlarged/post_vel'):\n",
    "            temp.add(i)\n",
    "            count+=1\n",
    "            path_file.write('/media/ssd/yananq/mace/enlarged/post_vel/'+i+'\\n')\n",
    "        elif i in os.listdir('/media/ssd/yananq/mace/enlarged/prior_vel'):\n",
    "            temp.add(i)\n",
    "            count+=1\n",
    "            path_file.write('/media/ssd/yananq/mace/enlarged/prior_vel/'+i+'\\n')\n",
    "count        "
   ]
  },
  {
   "cell_type": "code",
   "execution_count": 190,
   "metadata": {},
   "outputs": [
    {
     "name": "stdout",
     "output_type": "stream",
     "text": [
      "35178\n"
     ]
    },
    {
     "data": {
      "text/plain": [
       "35178"
      ]
     },
     "execution_count": 190,
     "metadata": {},
     "output_type": "execute_result"
    }
   ],
   "source": [
    "# pos_recover_dir.txt saves the dir of all negative cases cel files out of all 37724 samples\n",
    "# used for R code to calculate reference matrix\n",
    "pos_dir = set()\n",
    "count = 0\n",
    "for series in os.listdir('/media/ssd/yananq/mace/bg'):\n",
    "    for sample in os.listdir('/media/ssd/yananq/mace/bg/'+series):\n",
    "        if sample not in pos_case and (sample+'.png') in all_sample:\n",
    "            pos_dir.add('/media/ssd/yananq/mace/bg/'+series+'/'+sample)\n",
    "print(len(pos_dir))  #number of total negative samples\n",
    "path_file=open('/media/ssd/yananq/mace/pos_recover_dir.txt','w') \n",
    "for i in pos_dir:\n",
    "    if i.lower().endswith('cel') and i.lower().startswith('/media/ssd/yananq/mace/bg'):\n",
    "        path_file.write(i+'\\n')\n",
    "        count +=1\n",
    "count"
   ]
  },
  {
   "cell_type": "markdown",
   "metadata": {},
   "source": [
    "### Call R code recover.R"
   ]
  },
  {
   "cell_type": "markdown",
   "metadata": {},
   "source": [
    "### Recover (code in recover_intensity.py and recover_save_to_map_txt.py)"
   ]
  },
  {
   "cell_type": "markdown",
   "metadata": {},
   "source": [
    "###  Overall, % of the studies are affected by this correction"
   ]
  },
  {
   "cell_type": "code",
   "execution_count": 3,
   "metadata": {},
   "outputs": [
    {
     "data": {
      "text/plain": [
       "1703"
      ]
     },
     "execution_count": 3,
     "metadata": {},
     "output_type": "execute_result"
    }
   ],
   "source": [
    "#set of all recovered samples\n",
    "recovered = set(os.listdir('/media/ssd/yananq/mace/recovered_contam_intensities'))\n",
    "len(recovered)    "
   ]
  },
  {
   "cell_type": "code",
   "execution_count": 4,
   "metadata": {},
   "outputs": [],
   "source": [
    "# check each study as well as the samples under the study. If the sample name exist in the recovered set, \n",
    "# save the name of the study\n",
    "count = 0\n",
    "affected_study = set()\n",
    "for i in os.listdir('/media/ssd/yananq/mace/bg'):\n",
    "    for j in os.listdir('/media/ssd/yananq/mace/bg/'+i):\n",
    "        if j+'.txt' in recovered:\n",
    "            affected_study.add(i)"
   ]
  },
  {
   "cell_type": "code",
   "execution_count": 5,
   "metadata": {},
   "outputs": [
    {
     "data": {
      "text/plain": [
       "0.26666666666666666"
      ]
     },
     "execution_count": 5,
     "metadata": {},
     "output_type": "execute_result"
    }
   ],
   "source": [
    "len(affected_study)/3165 #3165 is the number of studies in total"
   ]
  }
 ],
 "metadata": {
  "kernelspec": {
   "display_name": "Python 3",
   "language": "python",
   "name": "python3"
  },
  "language_info": {
   "codemirror_mode": {
    "name": "ipython",
    "version": 3
   },
   "file_extension": ".py",
   "mimetype": "text/x-python",
   "name": "python",
   "nbconvert_exporter": "python",
   "pygments_lexer": "ipython3",
   "version": "3.7.7"
  }
 },
 "nbformat": 4,
 "nbformat_minor": 4
}
